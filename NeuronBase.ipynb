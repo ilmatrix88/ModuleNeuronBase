{
  "nbformat": 4,
  "nbformat_minor": 0,
  "metadata": {
    "colab": {
      "provenance": []
    },
    "kernelspec": {
      "name": "python3",
      "display_name": "Python 3"
    },
    "language_info": {
      "name": "python"
    }
  },
  "cells": [
    {
      "cell_type": "markdown",
      "source": [
        "**Навигация по уроку**\n",
        "\n",
        "1. [Нейронные сети. Математическая модель нейрона.](https://colab.research.google.com/drive/1XXxO2vyd9IDYT23tQrVMAAYeHYn-Awww)\n",
        "2. [Нейронные сети. Функции активации](https://colab.research.google.com/drive/1mhEEhb3mdE5mKFIvOiC5tHvkPiWD8DBj)\n",
        "3. Домашняя работа"
      ],
      "metadata": {
        "id": "8LIWrmOPjBO6"
      }
    },
    {
      "cell_type": "markdown",
      "source": [
        "## Задача 1. Класс Neuron"
      ],
      "metadata": {
        "id": "B5IghQAm20sG"
      }
    },
    {
      "cell_type": "markdown",
      "source": [
        "**Условие** Используя примеры из теоретической части 5.1 и 5.2, составьте класс Neuron модели нейрона, принимающего на вход от одного до 10 входных параметров. Для последнего параметра используется вес $x_n$ = 1, таким образом $w_n=b$ - является смещением. Запрещается пользоваться библиотекой numpy. На вход подается список. Матричное умножение реализуется с помощью циклов самостоятельно. Класс содержит методы для вычисления взвешенной суммы, а также содержит функции активации из урока."
      ],
      "metadata": {
        "id": "BxRUPNKFrxow"
      }
    },
    {
      "cell_type": "code",
      "execution_count": null,
      "metadata": {
        "id": "El4o9_QWeq78",
        "colab": {
          "base_uri": "https://localhost:8080/"
        },
        "outputId": "363e0aa4-1bc1-4346-930c-8a327aabac17"
      },
      "outputs": [
        {
          "output_type": "stream",
          "name": "stdout",
          "text": [
            "Взвешенная сумма: 6\n",
            "Результат после функции активации: 1\n",
            "Сигмоида: 0.9975273768433653\n",
            "Тангенс: 0.9999877116507956\n",
            "ReLu 6\n",
            "LeakyReLu: 6\n",
            "ELU: 6\n"
          ]
        }
      ],
      "source": [
        "#Решение\n",
        "#\n",
        "#Создаём класс нейрон и задаём параметры и веса\n",
        "import math\n",
        "class Neuron:\n",
        "    def __init__(self, weights):\n",
        "        self.weights = weights\n",
        "\n",
        "    def weightedsum(self, inputs):\n",
        "        if len(inputs) != len(self.weights) - 1:\n",
        "            raise ValueError(\"Количество входных параметров должно быть на 1 меньше количества весов\")\n",
        "#Учитываем смещение\n",
        "        weightedsum = self.weights[-1]\n",
        "        for i in range(len(inputs)):\n",
        "            weightedsum += inputs[i] * self.weights[i]\n",
        "        return weightedsum\n",
        "#Используем функции активации\n",
        "    def activationfunction(self, weightedsum):\n",
        "        if weightedsum >= 0:\n",
        "            return 1\n",
        "        else:\n",
        "            return 0\n",
        "\n",
        "    def sigmoid(self, inputs):\n",
        "        return 1 / (1 + math.exp(-inputs))\n",
        "\n",
        "    def у(self, inputs) :\n",
        "        s = math.dot(self.weights, inputs)\n",
        "        return s\n",
        "\n",
        "    def ReLU(self, inputs):\n",
        "        if inputs > 0:\n",
        "           return inputs\n",
        "        else:\n",
        "          return 0\n",
        "    def LeakyReLU(self, inputs, alfa=0.1):\n",
        "        if inputs > 0:\n",
        "           return inputs\n",
        "        else:\n",
        "           return inputs*alfa\n",
        "\n",
        "    def ELU(self, inputs, alfa=0.1):\n",
        "        if inputs > 0:\n",
        "           return inputs\n",
        "        else:\n",
        "           return alfa * (math.exp(inputs)-1)\n",
        "\n",
        "# Пример использования\n",
        "# Вектор весов\n",
        "neuronweights = [2, 5, 1]\n",
        "neuron = Neuron(neuronweights)\n",
        "# Входной вектор\n",
        "inputs = [0, 1]\n",
        "# Выводим результат и отображаем на экране\n",
        "weightedsum = neuron.weightedsum(inputs)\n",
        "print(\"Взвешенная сумма:\", weightedsum)\n",
        "output = neuron.activationfunction(weightedsum)\n",
        "print(\"Результат после функции активации:\", output)\n",
        "print(\"Сигмоида:\", neuron.sigmoid(weightedsum))\n",
        "print(\"Тангенс:\", math.tanh(weightedsum))\n",
        "relu = neuron.ReLU(weightedsum)\n",
        "print(\"ReLu\", relu)\n",
        "LKrelu = neuron.LeakyReLU(weightedsum)\n",
        "print(\"LeakyReLu:\", LKrelu)\n",
        "ELU = neuron.ELU(weightedsum)\n",
        "print(\"ELU:\", ELU)"
      ]
    },
    {
      "cell_type": "markdown",
      "source": [
        "## Задача 2. Класс Neuron (продолжение)"
      ],
      "metadata": {
        "id": "BXPoR8av3AUx"
      }
    },
    {
      "cell_type": "markdown",
      "source": [
        "**Условие.** Используя класс Neuron из первой задачи, придумать свой пример на принятие решения (по аналогии с задачей \"о рыбаке и рыбке\"), не менее 4 входных параметров, веса установить произвольно из логики задачи, произвести расчёт функций активаций, определённых в классе первой задачи."
      ],
      "metadata": {
        "id": "KLC5Gv3L3CP_"
      }
    },
    {
      "cell_type": "code",
      "source": [
        "#Решение\n",
        "#\n",
        "# Создадим новую задачу приянтия решения.\n",
        "# Задача: Ставить ли ставку \"Будет назначен пенальти\" в футбольном матче?\n",
        "# Зададим параметры и вес. А1 = Среднее число пенальти за сезон у команды хозяев превышает знаение 0.5 за матч.\n",
        "# А2 = те же условия, только у команды гостей. А3 = Частота фиксации пенальти у арбитра больше 0.5 за матч.\n",
        "# А4 = тип соревнования. Матч плей-офф = 0, матч не навылет = 1\n",
        "# Задаём веса B1 = 3, B2 = 3, B3 = 5, B3 = 1\n",
        "# Вводим заданные задачей параметры и считаем\n",
        "neuronweights = [3, 3, 5, 1, 1]\n",
        "neuron = Neuron(neuronweights)\n",
        "inputs = [0, 0, 1, 1]\n",
        "# Выводим результат и отображаем на экране\n",
        "weightedsum = neuron.weightedsum(inputs)\n",
        "print(\"Взвешенная сумма:\", weightedsum)\n",
        "output = neuron.activationfunction(weightedsum)\n",
        "print(\"Результат после функции активации:\", output)\n",
        "print(\"Сигмоида:\", neuron.sigmoid(weightedsum))\n",
        "print(\"Тангенс:\", math.tanh(weightedsum))\n",
        "relu = neuron.ReLU(weightedsum)\n",
        "print(\"ReLu\", relu)\n",
        "LKrelu = neuron.LeakyReLU(weightedsum)\n",
        "print(\"LeakyReLu:\", LKrelu)\n",
        "ELU = neuron.ELU(weightedsum)\n",
        "print(\"ELU:\", ELU)"
      ],
      "metadata": {
        "id": "yr-i4FFg3DAf",
        "colab": {
          "base_uri": "https://localhost:8080/"
        },
        "outputId": "c67670d0-ba01-466b-b5e1-4c9b4d40bb4c"
      },
      "execution_count": null,
      "outputs": [
        {
          "output_type": "stream",
          "name": "stdout",
          "text": [
            "Взвешенная сумма: 7\n",
            "Результат после функции активации: 1\n",
            "Сигмоида: 0.9990889488055994\n",
            "Тангенс: 0.9999983369439447\n",
            "ReLu 7\n",
            "LeakyReLu: 7\n",
            "ELU: 7\n"
          ]
        }
      ]
    }
  ]
}